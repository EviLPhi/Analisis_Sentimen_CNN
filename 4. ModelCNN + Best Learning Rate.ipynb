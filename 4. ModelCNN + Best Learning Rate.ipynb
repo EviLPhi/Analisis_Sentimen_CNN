{
 "cells": [
  {
   "cell_type": "code",
   "execution_count": 1,
   "id": "297dd6e0",
   "metadata": {},
   "outputs": [],
   "source": [
    "import pandas as pd\n",
    "import numpy as np\n",
    "import seaborn as sns\n",
    "import matplotlib.pyplot as plt"
   ]
  },
  {
   "cell_type": "code",
   "execution_count": 2,
   "id": "aa48c57d",
   "metadata": {},
   "outputs": [],
   "source": [
    "df = pd.read_excel('Dataset_Final.xlsx')"
   ]
  },
  {
   "cell_type": "code",
   "execution_count": 3,
   "id": "ff974660",
   "metadata": {},
   "outputs": [
    {
     "name": "stdout",
     "output_type": "stream",
     "text": [
      "<class 'pandas.core.frame.DataFrame'>\n",
      "RangeIndex: 4718 entries, 0 to 4717\n",
      "Data columns (total 2 columns):\n",
      " #   Column       Non-Null Count  Dtype \n",
      "---  ------       --------------  ----- \n",
      " 0   final_tweet  4718 non-null   object\n",
      " 1   sentiment    4718 non-null   object\n",
      "dtypes: object(2)\n",
      "memory usage: 73.8+ KB\n"
     ]
    }
   ],
   "source": [
    "df.info()"
   ]
  },
  {
   "cell_type": "code",
   "execution_count": 4,
   "id": "07620d52",
   "metadata": {},
   "outputs": [
    {
     "data": {
      "text/html": [
       "<div>\n",
       "<style scoped>\n",
       "    .dataframe tbody tr th:only-of-type {\n",
       "        vertical-align: middle;\n",
       "    }\n",
       "\n",
       "    .dataframe tbody tr th {\n",
       "        vertical-align: top;\n",
       "    }\n",
       "\n",
       "    .dataframe thead th {\n",
       "        text-align: right;\n",
       "    }\n",
       "</style>\n",
       "<table border=\"1\" class=\"dataframe\">\n",
       "  <thead>\n",
       "    <tr style=\"text-align: right;\">\n",
       "      <th></th>\n",
       "      <th>final_tweet</th>\n",
       "      <th>sentiment</th>\n",
       "    </tr>\n",
       "  </thead>\n",
       "  <tbody>\n",
       "    <tr>\n",
       "      <th>0</th>\n",
       "      <td>chatib basri kartu prakerja indikator orang pu...</td>\n",
       "      <td>negatif</td>\n",
       "    </tr>\n",
       "    <tr>\n",
       "      <th>1</th>\n",
       "      <td>kartu prakerja</td>\n",
       "      <td>netral</td>\n",
       "    </tr>\n",
       "    <tr>\n",
       "      <th>2</th>\n",
       "      <td>bbm roket tarif listrik roket garuda rugi krak...</td>\n",
       "      <td>netral</td>\n",
       "    </tr>\n",
       "    <tr>\n",
       "      <th>3</th>\n",
       "      <td>untung bukan insentif prakerja</td>\n",
       "      <td>netral</td>\n",
       "    </tr>\n",
       "    <tr>\n",
       "      <th>4</th>\n",
       "      <td>tuhan terimakasih rezeki insentif prakerja tah...</td>\n",
       "      <td>positif</td>\n",
       "    </tr>\n",
       "  </tbody>\n",
       "</table>\n",
       "</div>"
      ],
      "text/plain": [
       "                                         final_tweet sentiment\n",
       "0  chatib basri kartu prakerja indikator orang pu...   negatif\n",
       "1                                     kartu prakerja    netral\n",
       "2  bbm roket tarif listrik roket garuda rugi krak...    netral\n",
       "3                     untung bukan insentif prakerja    netral\n",
       "4  tuhan terimakasih rezeki insentif prakerja tah...   positif"
      ]
     },
     "execution_count": 4,
     "metadata": {},
     "output_type": "execute_result"
    }
   ],
   "source": [
    "df.head()"
   ]
  },
  {
   "cell_type": "code",
   "execution_count": 5,
   "id": "a475d823",
   "metadata": {},
   "outputs": [],
   "source": [
    "text = df.final_tweet\n",
    "sentiment = df.sentiment"
   ]
  },
  {
   "cell_type": "markdown",
   "id": "03acf2ee",
   "metadata": {},
   "source": [
    "# SPLIT DATA 7:3"
   ]
  },
  {
   "cell_type": "markdown",
   "id": "f972f6f6",
   "metadata": {},
   "source": [
    "## Model NBC"
   ]
  },
  {
   "cell_type": "code",
   "execution_count": 6,
   "id": "c3ae8417",
   "metadata": {},
   "outputs": [],
   "source": [
    "from sklearn.naive_bayes import MultinomialNB\n",
    "import sklearn.metrics as metrics\n",
    "from sklearn.metrics import classification_report, confusion_matrix, accuracy_score\n",
    "from sklearn.feature_extraction.text import TfidfVectorizer, TfidfTransformer\n",
    "from sklearn.model_selection import train_test_split"
   ]
  },
  {
   "cell_type": "code",
   "execution_count": 7,
   "id": "5ffd160d",
   "metadata": {},
   "outputs": [],
   "source": [
    "#TFIDF\n",
    "tfidf = TfidfVectorizer(encoding='utf-8',\n",
    "                        ngram_range=(1,1),\n",
    "                        norm='l2',\n",
    "                        sublinear_tf=True)"
   ]
  },
  {
   "cell_type": "code",
   "execution_count": 8,
   "id": "bf990f49",
   "metadata": {},
   "outputs": [],
   "source": [
    "tf_idf = tfidf.fit_transform(text).toarray()"
   ]
  },
  {
   "cell_type": "code",
   "execution_count": 9,
   "id": "4a42bdf0",
   "metadata": {},
   "outputs": [],
   "source": [
    "df_tfidf = pd.DataFrame(tf_idf, \n",
    "             index=['sentence '+str(i) \n",
    "                    for i in range(1, 1+len(text))],\n",
    "             columns=tfidf.get_feature_names())"
   ]
  },
  {
   "cell_type": "code",
   "execution_count": 10,
   "id": "3cd7a1f4",
   "metadata": {},
   "outputs": [
    {
     "data": {
      "text/html": [
       "<div>\n",
       "<style scoped>\n",
       "    .dataframe tbody tr th:only-of-type {\n",
       "        vertical-align: middle;\n",
       "    }\n",
       "\n",
       "    .dataframe tbody tr th {\n",
       "        vertical-align: top;\n",
       "    }\n",
       "\n",
       "    .dataframe thead th {\n",
       "        text-align: right;\n",
       "    }\n",
       "</style>\n",
       "<table border=\"1\" class=\"dataframe\">\n",
       "  <thead>\n",
       "    <tr style=\"text-align: right;\">\n",
       "      <th></th>\n",
       "      <th>sentence 1</th>\n",
       "      <th>sentence 2</th>\n",
       "      <th>sentence 3</th>\n",
       "      <th>sentence 4</th>\n",
       "      <th>sentence 5</th>\n",
       "      <th>sentence 6</th>\n",
       "      <th>sentence 7</th>\n",
       "      <th>sentence 8</th>\n",
       "      <th>sentence 9</th>\n",
       "      <th>sentence 10</th>\n",
       "      <th>...</th>\n",
       "      <th>sentence 4709</th>\n",
       "      <th>sentence 4710</th>\n",
       "      <th>sentence 4711</th>\n",
       "      <th>sentence 4712</th>\n",
       "      <th>sentence 4713</th>\n",
       "      <th>sentence 4714</th>\n",
       "      <th>sentence 4715</th>\n",
       "      <th>sentence 4716</th>\n",
       "      <th>sentence 4717</th>\n",
       "      <th>sentence 4718</th>\n",
       "    </tr>\n",
       "  </thead>\n",
       "  <tbody>\n",
       "    <tr>\n",
       "      <th>gaksih</th>\n",
       "      <td>0.0</td>\n",
       "      <td>0.0</td>\n",
       "      <td>0.000000</td>\n",
       "      <td>0.0</td>\n",
       "      <td>0.0</td>\n",
       "      <td>0.0</td>\n",
       "      <td>0.0</td>\n",
       "      <td>0.0</td>\n",
       "      <td>0.0</td>\n",
       "      <td>0.0</td>\n",
       "      <td>...</td>\n",
       "      <td>0.0</td>\n",
       "      <td>0.0</td>\n",
       "      <td>0.0</td>\n",
       "      <td>0.0</td>\n",
       "      <td>0.0</td>\n",
       "      <td>0.0</td>\n",
       "      <td>0.00000</td>\n",
       "      <td>0.0</td>\n",
       "      <td>0.0</td>\n",
       "      <td>0.0</td>\n",
       "    </tr>\n",
       "    <tr>\n",
       "      <th>dite</th>\n",
       "      <td>0.0</td>\n",
       "      <td>0.0</td>\n",
       "      <td>0.000000</td>\n",
       "      <td>0.0</td>\n",
       "      <td>0.0</td>\n",
       "      <td>0.0</td>\n",
       "      <td>0.0</td>\n",
       "      <td>0.0</td>\n",
       "      <td>0.0</td>\n",
       "      <td>0.0</td>\n",
       "      <td>...</td>\n",
       "      <td>0.0</td>\n",
       "      <td>0.0</td>\n",
       "      <td>0.0</td>\n",
       "      <td>0.0</td>\n",
       "      <td>0.0</td>\n",
       "      <td>0.0</td>\n",
       "      <td>0.00000</td>\n",
       "      <td>0.0</td>\n",
       "      <td>0.0</td>\n",
       "      <td>0.0</td>\n",
       "    </tr>\n",
       "    <tr>\n",
       "      <th>rugi</th>\n",
       "      <td>0.0</td>\n",
       "      <td>0.0</td>\n",
       "      <td>0.329739</td>\n",
       "      <td>0.0</td>\n",
       "      <td>0.0</td>\n",
       "      <td>0.0</td>\n",
       "      <td>0.0</td>\n",
       "      <td>0.0</td>\n",
       "      <td>0.0</td>\n",
       "      <td>0.0</td>\n",
       "      <td>...</td>\n",
       "      <td>0.0</td>\n",
       "      <td>0.0</td>\n",
       "      <td>0.0</td>\n",
       "      <td>0.0</td>\n",
       "      <td>0.0</td>\n",
       "      <td>0.0</td>\n",
       "      <td>0.00000</td>\n",
       "      <td>0.0</td>\n",
       "      <td>0.0</td>\n",
       "      <td>0.0</td>\n",
       "    </tr>\n",
       "    <tr>\n",
       "      <th>impact</th>\n",
       "      <td>0.0</td>\n",
       "      <td>0.0</td>\n",
       "      <td>0.000000</td>\n",
       "      <td>0.0</td>\n",
       "      <td>0.0</td>\n",
       "      <td>0.0</td>\n",
       "      <td>0.0</td>\n",
       "      <td>0.0</td>\n",
       "      <td>0.0</td>\n",
       "      <td>0.0</td>\n",
       "      <td>...</td>\n",
       "      <td>0.0</td>\n",
       "      <td>0.0</td>\n",
       "      <td>0.0</td>\n",
       "      <td>0.0</td>\n",
       "      <td>0.0</td>\n",
       "      <td>0.0</td>\n",
       "      <td>0.00000</td>\n",
       "      <td>0.0</td>\n",
       "      <td>0.0</td>\n",
       "      <td>0.0</td>\n",
       "    </tr>\n",
       "    <tr>\n",
       "      <th>the</th>\n",
       "      <td>0.0</td>\n",
       "      <td>0.0</td>\n",
       "      <td>0.000000</td>\n",
       "      <td>0.0</td>\n",
       "      <td>0.0</td>\n",
       "      <td>0.0</td>\n",
       "      <td>0.0</td>\n",
       "      <td>0.0</td>\n",
       "      <td>0.0</td>\n",
       "      <td>0.0</td>\n",
       "      <td>...</td>\n",
       "      <td>0.0</td>\n",
       "      <td>0.0</td>\n",
       "      <td>0.0</td>\n",
       "      <td>0.0</td>\n",
       "      <td>0.0</td>\n",
       "      <td>0.0</td>\n",
       "      <td>0.38493</td>\n",
       "      <td>0.0</td>\n",
       "      <td>0.0</td>\n",
       "      <td>0.0</td>\n",
       "    </tr>\n",
       "    <tr>\n",
       "      <th>mengurus</th>\n",
       "      <td>0.0</td>\n",
       "      <td>0.0</td>\n",
       "      <td>0.000000</td>\n",
       "      <td>0.0</td>\n",
       "      <td>0.0</td>\n",
       "      <td>0.0</td>\n",
       "      <td>0.0</td>\n",
       "      <td>0.0</td>\n",
       "      <td>0.0</td>\n",
       "      <td>0.0</td>\n",
       "      <td>...</td>\n",
       "      <td>0.0</td>\n",
       "      <td>0.0</td>\n",
       "      <td>0.0</td>\n",
       "      <td>0.0</td>\n",
       "      <td>0.0</td>\n",
       "      <td>0.0</td>\n",
       "      <td>0.00000</td>\n",
       "      <td>0.0</td>\n",
       "      <td>0.0</td>\n",
       "      <td>0.0</td>\n",
       "    </tr>\n",
       "    <tr>\n",
       "      <th>benefit</th>\n",
       "      <td>0.0</td>\n",
       "      <td>0.0</td>\n",
       "      <td>0.000000</td>\n",
       "      <td>0.0</td>\n",
       "      <td>0.0</td>\n",
       "      <td>0.0</td>\n",
       "      <td>0.0</td>\n",
       "      <td>0.0</td>\n",
       "      <td>0.0</td>\n",
       "      <td>0.0</td>\n",
       "      <td>...</td>\n",
       "      <td>0.0</td>\n",
       "      <td>0.0</td>\n",
       "      <td>0.0</td>\n",
       "      <td>0.0</td>\n",
       "      <td>0.0</td>\n",
       "      <td>0.0</td>\n",
       "      <td>0.00000</td>\n",
       "      <td>0.0</td>\n",
       "      <td>0.0</td>\n",
       "      <td>0.0</td>\n",
       "    </tr>\n",
       "    <tr>\n",
       "      <th>doyan</th>\n",
       "      <td>0.0</td>\n",
       "      <td>0.0</td>\n",
       "      <td>0.000000</td>\n",
       "      <td>0.0</td>\n",
       "      <td>0.0</td>\n",
       "      <td>0.0</td>\n",
       "      <td>0.0</td>\n",
       "      <td>0.0</td>\n",
       "      <td>0.0</td>\n",
       "      <td>0.0</td>\n",
       "      <td>...</td>\n",
       "      <td>0.0</td>\n",
       "      <td>0.0</td>\n",
       "      <td>0.0</td>\n",
       "      <td>0.0</td>\n",
       "      <td>0.0</td>\n",
       "      <td>0.0</td>\n",
       "      <td>0.00000</td>\n",
       "      <td>0.0</td>\n",
       "      <td>0.0</td>\n",
       "      <td>0.0</td>\n",
       "    </tr>\n",
       "    <tr>\n",
       "      <th>konspirasiri</th>\n",
       "      <td>0.0</td>\n",
       "      <td>0.0</td>\n",
       "      <td>0.000000</td>\n",
       "      <td>0.0</td>\n",
       "      <td>0.0</td>\n",
       "      <td>0.0</td>\n",
       "      <td>0.0</td>\n",
       "      <td>0.0</td>\n",
       "      <td>0.0</td>\n",
       "      <td>0.0</td>\n",
       "      <td>...</td>\n",
       "      <td>0.0</td>\n",
       "      <td>0.0</td>\n",
       "      <td>0.0</td>\n",
       "      <td>0.0</td>\n",
       "      <td>0.0</td>\n",
       "      <td>0.0</td>\n",
       "      <td>0.00000</td>\n",
       "      <td>0.0</td>\n",
       "      <td>0.0</td>\n",
       "      <td>0.0</td>\n",
       "    </tr>\n",
       "    <tr>\n",
       "      <th>jajan</th>\n",
       "      <td>0.0</td>\n",
       "      <td>0.0</td>\n",
       "      <td>0.000000</td>\n",
       "      <td>0.0</td>\n",
       "      <td>0.0</td>\n",
       "      <td>0.0</td>\n",
       "      <td>0.0</td>\n",
       "      <td>0.0</td>\n",
       "      <td>0.0</td>\n",
       "      <td>0.0</td>\n",
       "      <td>...</td>\n",
       "      <td>0.0</td>\n",
       "      <td>0.0</td>\n",
       "      <td>0.0</td>\n",
       "      <td>0.0</td>\n",
       "      <td>0.0</td>\n",
       "      <td>0.0</td>\n",
       "      <td>0.00000</td>\n",
       "      <td>0.0</td>\n",
       "      <td>0.0</td>\n",
       "      <td>0.0</td>\n",
       "    </tr>\n",
       "  </tbody>\n",
       "</table>\n",
       "<p>10 rows × 4718 columns</p>\n",
       "</div>"
      ],
      "text/plain": [
       "              sentence 1  sentence 2  sentence 3  sentence 4  sentence 5  \\\n",
       "gaksih               0.0         0.0    0.000000         0.0         0.0   \n",
       "dite                 0.0         0.0    0.000000         0.0         0.0   \n",
       "rugi                 0.0         0.0    0.329739         0.0         0.0   \n",
       "impact               0.0         0.0    0.000000         0.0         0.0   \n",
       "the                  0.0         0.0    0.000000         0.0         0.0   \n",
       "mengurus             0.0         0.0    0.000000         0.0         0.0   \n",
       "benefit              0.0         0.0    0.000000         0.0         0.0   \n",
       "doyan                0.0         0.0    0.000000         0.0         0.0   \n",
       "konspirasiri         0.0         0.0    0.000000         0.0         0.0   \n",
       "jajan                0.0         0.0    0.000000         0.0         0.0   \n",
       "\n",
       "              sentence 6  sentence 7  sentence 8  sentence 9  sentence 10  \\\n",
       "gaksih               0.0         0.0         0.0         0.0          0.0   \n",
       "dite                 0.0         0.0         0.0         0.0          0.0   \n",
       "rugi                 0.0         0.0         0.0         0.0          0.0   \n",
       "impact               0.0         0.0         0.0         0.0          0.0   \n",
       "the                  0.0         0.0         0.0         0.0          0.0   \n",
       "mengurus             0.0         0.0         0.0         0.0          0.0   \n",
       "benefit              0.0         0.0         0.0         0.0          0.0   \n",
       "doyan                0.0         0.0         0.0         0.0          0.0   \n",
       "konspirasiri         0.0         0.0         0.0         0.0          0.0   \n",
       "jajan                0.0         0.0         0.0         0.0          0.0   \n",
       "\n",
       "              ...  sentence 4709  sentence 4710  sentence 4711  sentence 4712  \\\n",
       "gaksih        ...            0.0            0.0            0.0            0.0   \n",
       "dite          ...            0.0            0.0            0.0            0.0   \n",
       "rugi          ...            0.0            0.0            0.0            0.0   \n",
       "impact        ...            0.0            0.0            0.0            0.0   \n",
       "the           ...            0.0            0.0            0.0            0.0   \n",
       "mengurus      ...            0.0            0.0            0.0            0.0   \n",
       "benefit       ...            0.0            0.0            0.0            0.0   \n",
       "doyan         ...            0.0            0.0            0.0            0.0   \n",
       "konspirasiri  ...            0.0            0.0            0.0            0.0   \n",
       "jajan         ...            0.0            0.0            0.0            0.0   \n",
       "\n",
       "              sentence 4713  sentence 4714  sentence 4715  sentence 4716  \\\n",
       "gaksih                  0.0            0.0        0.00000            0.0   \n",
       "dite                    0.0            0.0        0.00000            0.0   \n",
       "rugi                    0.0            0.0        0.00000            0.0   \n",
       "impact                  0.0            0.0        0.00000            0.0   \n",
       "the                     0.0            0.0        0.38493            0.0   \n",
       "mengurus                0.0            0.0        0.00000            0.0   \n",
       "benefit                 0.0            0.0        0.00000            0.0   \n",
       "doyan                   0.0            0.0        0.00000            0.0   \n",
       "konspirasiri            0.0            0.0        0.00000            0.0   \n",
       "jajan                   0.0            0.0        0.00000            0.0   \n",
       "\n",
       "              sentence 4717  sentence 4718  \n",
       "gaksih                  0.0            0.0  \n",
       "dite                    0.0            0.0  \n",
       "rugi                    0.0            0.0  \n",
       "impact                  0.0            0.0  \n",
       "the                     0.0            0.0  \n",
       "mengurus                0.0            0.0  \n",
       "benefit                 0.0            0.0  \n",
       "doyan                   0.0            0.0  \n",
       "konspirasiri            0.0            0.0  \n",
       "jajan                   0.0            0.0  \n",
       "\n",
       "[10 rows x 4718 columns]"
      ]
     },
     "execution_count": 10,
     "metadata": {},
     "output_type": "execute_result"
    }
   ],
   "source": [
    "df_tfidf.transpose().sample(10)"
   ]
  },
  {
   "cell_type": "code",
   "execution_count": 11,
   "id": "d1499aa9",
   "metadata": {},
   "outputs": [],
   "source": [
    "nbc = MultinomialNB()"
   ]
  },
  {
   "cell_type": "code",
   "execution_count": 12,
   "id": "21023cff",
   "metadata": {},
   "outputs": [],
   "source": [
    "X_train, X_test, Y_train, Y_test = train_test_split(tf_idf,\n",
    "                                                    sentiment, \n",
    "                                                    test_size = 0.3,\n",
    "                                                    random_state = 123)"
   ]
  },
  {
   "cell_type": "code",
   "execution_count": 13,
   "id": "4d8e315a",
   "metadata": {},
   "outputs": [],
   "source": [
    "nbc.fit(X_train,Y_train)\n",
    "predict_nbc = nbc.predict(X_test)"
   ]
  },
  {
   "cell_type": "code",
   "execution_count": 14,
   "id": "df306ad3",
   "metadata": {},
   "outputs": [
    {
     "name": "stdout",
     "output_type": "stream",
     "text": [
      "Training Acc :  0.8419139915202908\n"
     ]
    }
   ],
   "source": [
    "training_accuracy = accuracy_score(Y_train, nbc.predict(X_train))\n",
    "print('Training Acc : ',training_accuracy)"
   ]
  },
  {
   "cell_type": "code",
   "execution_count": 15,
   "id": "3b6bc471",
   "metadata": {},
   "outputs": [
    {
     "name": "stdout",
     "output_type": "stream",
     "text": [
      "Test Acc :  0.7620056497175142\n"
     ]
    }
   ],
   "source": [
    "test_accuracy = accuracy_score(Y_test, predict_nbc)\n",
    "print('Test Acc : ',test_accuracy)"
   ]
  },
  {
   "cell_type": "code",
   "execution_count": 16,
   "id": "7d3d1e97",
   "metadata": {},
   "outputs": [
    {
     "name": "stdout",
     "output_type": "stream",
     "text": [
      "              precision    recall  f1-score   support\n",
      "\n",
      "     negatif       0.88      0.66      0.75       300\n",
      "      netral       0.77      0.65      0.71       489\n",
      "     positif       0.72      0.90      0.80       627\n",
      "\n",
      "    accuracy                           0.76      1416\n",
      "   macro avg       0.79      0.74      0.75      1416\n",
      "weighted avg       0.77      0.76      0.76      1416\n",
      "\n"
     ]
    }
   ],
   "source": [
    "print(classification_report(Y_test, predict_nbc))"
   ]
  },
  {
   "cell_type": "code",
   "execution_count": 17,
   "id": "e9f7324c",
   "metadata": {},
   "outputs": [
    {
     "name": "stdout",
     "output_type": "stream",
     "text": [
      "Prediksi Test : Counter({'positif': 780, 'netral': 411, 'negatif': 225})\n",
      "True Value :  Counter({'positif': 627, 'netral': 489, 'negatif': 300})\n"
     ]
    }
   ],
   "source": [
    "from collections import Counter\n",
    "print('Prediksi Test :', Counter(predict_nbc))\n",
    "print('True Value : ',Counter(Y_test))"
   ]
  },
  {
   "cell_type": "code",
   "execution_count": 18,
   "id": "d611e70b",
   "metadata": {},
   "outputs": [
    {
     "name": "stdout",
     "output_type": "stream",
     "text": [
      "[[197  36  67]\n",
      " [ 22 318 149]\n",
      " [  6  57 564]]\n"
     ]
    }
   ],
   "source": [
    "conf_matrix = confusion_matrix(Y_test, predict_nbc)\n",
    "print(conf_matrix)"
   ]
  },
  {
   "cell_type": "code",
   "execution_count": 19,
   "id": "45421d86",
   "metadata": {},
   "outputs": [
    {
     "data": {
      "text/plain": [
       "<AxesSubplot:>"
      ]
     },
     "execution_count": 19,
     "metadata": {},
     "output_type": "execute_result"
    },
    {
     "data": {
      "image/png": "[encoded data removed]",
      "text/plain": [
       "<Figure size 432x288 with 2 Axes>"
      ]
     },
     "metadata": {
      "needs_background": "light"
     },
     "output_type": "display_data"
    }
   ],
   "source": [
    "sns.heatmap(conf_matrix/np.sum(conf_matrix),annot=True, fmt='.2%', cmap='Blues',\n",
    "            xticklabels=['negatif','netral','positif'], yticklabels=['negatif','netral','positif'])"
   ]
  },
  {
   "cell_type": "markdown",
   "id": "19715019",
   "metadata": {},
   "source": [
    "## CNN"
   ]
  },
  {
   "cell_type": "code",
   "execution_count": 20,
   "id": "1946adea",
   "metadata": {},
   "outputs": [],
   "source": [
    "import tensorflow as tf\n",
    "from tensorflow.keras.preprocessing.text import Tokenizer\n",
    "from tensorflow.keras.preprocessing.sequence import pad_sequences"
   ]
  },
  {
   "cell_type": "code",
   "execution_count": 21,
   "id": "7b94cc42",
   "metadata": {},
   "outputs": [],
   "source": [
    "def convert_predict_cnn(predict):\n",
    "    x = []\n",
    "    for i in predict :\n",
    "        if i == 0 :\n",
    "            x.append('negatif')\n",
    "        elif i == 1 :\n",
    "            x.append('netral')\n",
    "        else :\n",
    "            x.append('positif')\n",
    "    return x\n",
    "\n",
    "def preprocessing_cnn(X_train,X_test,Test=False):\n",
    "    tokenizer = Tokenizer(num_words=5000, oov_token='-')   \n",
    "    tokenizer.fit_on_texts(X_test)\n",
    "    tokenizer.fit_on_texts(X_train)\n",
    "    \n",
    "    sekuens_test = tokenizer.texts_to_sequences(X_test)\n",
    "    padded_test = pad_sequences(sekuens_test)\n",
    "    \n",
    "    if Test == False :\n",
    "        sekuens_train = tokenizer.texts_to_sequences(X_train)\n",
    "        padded_train = pad_sequences(sekuens_train) \n",
    "        return padded_train, padded_test\n",
    "        \n",
    "    else :\n",
    "        return padded_test"
   ]
  },
  {
   "cell_type": "code",
   "execution_count": 22,
   "id": "7c7006be",
   "metadata": {},
   "outputs": [],
   "source": [
    "target = pd.get_dummies(df['sentiment'])"
   ]
  },
  {
   "cell_type": "code",
   "execution_count": 23,
   "id": "387dbaac",
   "metadata": {},
   "outputs": [],
   "source": [
    "X_train, X_test, Y_train, Y_test = train_test_split(text,\n",
    "                                                    target, \n",
    "                                                    test_size = 0.3,\n",
    "                                                    random_state = 123)"
   ]
  },
  {
   "cell_type": "code",
   "execution_count": 24,
   "id": "3d1f4a50",
   "metadata": {},
   "outputs": [
    {
     "name": "stdout",
     "output_type": "stream",
     "text": [
      "Train :  3302\n",
      "Test :  1416\n"
     ]
    }
   ],
   "source": [
    "padded_train, padded_test = preprocessing_cnn(X_train,X_test)\n",
    "print('Train : ',len(padded_train))\n",
    "print('Test : ',len(padded_test))"
   ]
  },
  {
   "cell_type": "code",
   "execution_count": 25,
   "id": "7dd92ab0",
   "metadata": {},
   "outputs": [],
   "source": [
    "early_stop = tf.keras.callbacks.EarlyStopping(patience=6,monitor='val_loss')"
   ]
  },
  {
   "cell_type": "markdown",
   "id": "b269bf46",
   "metadata": {},
   "source": [
    "### Model 1 (CNN - Bidirectional LSTM)"
   ]
  },
  {
   "cell_type": "code",
   "execution_count": 26,
   "id": "7ee59465",
   "metadata": {},
   "outputs": [
    {
     "name": "stdout",
     "output_type": "stream",
     "text": [
      "Model: \"sequential\"\n",
      "_________________________________________________________________\n",
      "Layer (type)                 Output Shape              Param #   \n",
      "=================================================================\n",
      "embedding (Embedding)        (None, None, 256)         1280000   \n",
      "_________________________________________________________________\n",
      "conv1d (Conv1D)              (None, None, 128)         262272    \n",
      "_________________________________________________________________\n",
      "bidirectional (Bidirectional (None, 64)                41216     \n",
      "_________________________________________________________________\n",
      "dense (Dense)                (None, 32)                2080      \n",
      "_________________________________________________________________\n",
      "dropout (Dropout)            (None, 32)                0         \n",
      "_________________________________________________________________\n",
      "dense_1 (Dense)              (None, 3)                 99        \n",
      "=================================================================\n",
      "Total params: 1,585,667\n",
      "Trainable params: 1,585,667\n",
      "Non-trainable params: 0\n",
      "_________________________________________________________________\n"
     ]
    }
   ],
   "source": [
    "model_1 = tf.keras.Sequential([\n",
    "    tf.keras.layers.Embedding(input_dim=5000, output_dim=256),\n",
    "    tf.keras.layers.Conv1D(128, activation='relu',kernel_size=8),\n",
    "    tf.keras.layers.Bidirectional(tf.keras.layers.LSTM(32)),\n",
    "    tf.keras.layers.Dense(32, activation='relu'),\n",
    "    tf.keras.layers.Dropout(0.5),\n",
    "    tf.keras.layers.Dense(3, activation='softmax')\n",
    "  ])\n",
    "model_1.summary()"
   ]
  },
  {
   "cell_type": "code",
   "execution_count": 27,
   "id": "5c8c688f",
   "metadata": {},
   "outputs": [
    {
     "name": "stdout",
     "output_type": "stream",
     "text": [
      "Train on 3302 samples, validate on 1416 samples\n",
      "Epoch 1/20\n",
      "3302/3302 - 26s - loss: 0.7112 - accuracy: 0.6693 - val_loss: 0.5454 - val_accuracy: 0.7535\n",
      "Epoch 2/20\n",
      "3302/3302 - 21s - loss: 0.4487 - accuracy: 0.8298 - val_loss: 0.5493 - val_accuracy: 0.7705\n",
      "Epoch 3/20\n",
      "3302/3302 - 19s - loss: 0.2760 - accuracy: 0.9085 - val_loss: 0.6994 - val_accuracy: 0.7782\n",
      "Epoch 4/20\n",
      "3302/3302 - 19s - loss: 0.1901 - accuracy: 0.9364 - val_loss: 0.7449 - val_accuracy: 0.7790\n",
      "Epoch 5/20\n",
      "3302/3302 - 16s - loss: 0.1610 - accuracy: 0.9509 - val_loss: 0.8435 - val_accuracy: 0.7726\n",
      "Epoch 6/20\n",
      "3302/3302 - 19s - loss: 0.1325 - accuracy: 0.9600 - val_loss: 1.0486 - val_accuracy: 0.7811\n",
      "Epoch 7/20\n",
      "3302/3302 - 16s - loss: 0.1160 - accuracy: 0.9649 - val_loss: 1.2158 - val_accuracy: 0.7747\n"
     ]
    }
   ],
   "source": [
    "model_1.compile(loss='categorical_crossentropy',\n",
    "              optimizer=tf.optimizers.Adam(lr=0.0039810715),\n",
    "              metrics=['accuracy'])\n",
    "# fit\n",
    "history = model_1.fit(padded_train, Y_train, epochs=20, verbose=2,callbacks=[early_stop], validation_data=(padded_test, Y_test))"
   ]
  },
  {
   "cell_type": "code",
   "execution_count": 28,
   "id": "ef90c9d5",
   "metadata": {},
   "outputs": [
    {
     "data": {
      "image/png": "[encoded data removed]",
      "text/plain": [
       "<Figure size 432x288 with 1 Axes>"
      ]
     },
     "metadata": {
      "needs_background": "light"
     },
     "output_type": "display_data"
    }
   ],
   "source": [
    "epoch = len(history.history['accuracy'])\n",
    "\n",
    "plt.plot(history.history['accuracy'])\n",
    "plt.plot(history.history['val_accuracy'])\n",
    "plt.axis([0,epoch-1,0,1])\n",
    "plt.title('Model CNN - Bidirectional LSTM')\n",
    "plt.ylabel('Accuracy')\n",
    "plt.xlabel('Epoch')\n",
    "plt.legend(['Train','Test'], loc='lower right')\n",
    "plt.show()"
   ]
  },
  {
   "cell_type": "code",
   "execution_count": 29,
   "id": "2745f8c2",
   "metadata": {},
   "outputs": [],
   "source": [
    "predict = model_1.predict(padded_test)\n",
    "predict_train = model_1.predict(padded_train)"
   ]
  },
  {
   "cell_type": "code",
   "execution_count": 30,
   "id": "31f6c758",
   "metadata": {},
   "outputs": [],
   "source": [
    "y_test = convert_predict_cnn(np.argmax(np.array(Y_test), axis=1))\n",
    "y_train = convert_predict_cnn(np.argmax(np.array(Y_train), axis=1))\n",
    "predict = convert_predict_cnn(np.argmax(predict, axis=1))\n",
    "predict_train = convert_predict_cnn(np.argmax(predict_train, axis=1))"
   ]
  },
  {
   "cell_type": "code",
   "execution_count": 31,
   "id": "5178e1e4",
   "metadata": {},
   "outputs": [
    {
     "name": "stdout",
     "output_type": "stream",
     "text": [
      "Akurasi Train =  0.9718352513628105\n",
      "Akurasi Test =  0.7747175141242938\n"
     ]
    }
   ],
   "source": [
    "train_accuracy = accuracy_score(y_train, predict_train)\n",
    "print(\"Akurasi Train = \",train_accuracy)\n",
    "\n",
    "test_accuracy = accuracy_score(y_test, predict)\n",
    "print(\"Akurasi Test = \",test_accuracy)"
   ]
  },
  {
   "cell_type": "code",
   "execution_count": 32,
   "id": "dbbd90d0",
   "metadata": {},
   "outputs": [
    {
     "name": "stdout",
     "output_type": "stream",
     "text": [
      "Prediksi Test : Counter({'positif': 604, 'netral': 520, 'negatif': 292})\n",
      "True Value :  Counter({'positif': 627, 'netral': 489, 'negatif': 300})\n"
     ]
    }
   ],
   "source": [
    "print('Prediksi Test :', Counter(predict))\n",
    "print('True Value : ',Counter(y_test))"
   ]
  },
  {
   "cell_type": "code",
   "execution_count": 33,
   "id": "69f3adec",
   "metadata": {},
   "outputs": [
    {
     "name": "stdout",
     "output_type": "stream",
     "text": [
      "              precision    recall  f1-score   support\n",
      "\n",
      "     negatif       0.77      0.75      0.76       300\n",
      "      netral       0.72      0.76      0.74       489\n",
      "     positif       0.83      0.80      0.81       627\n",
      "\n",
      "    accuracy                           0.77      1416\n",
      "   macro avg       0.77      0.77      0.77      1416\n",
      "weighted avg       0.78      0.77      0.78      1416\n",
      "\n"
     ]
    }
   ],
   "source": [
    "print(classification_report(y_test,predict))"
   ]
  },
  {
   "cell_type": "code",
   "execution_count": 34,
   "id": "913392e2",
   "metadata": {},
   "outputs": [
    {
     "name": "stdout",
     "output_type": "stream",
     "text": [
      "[[224  46  30]\n",
      " [ 44 372  73]\n",
      " [ 24 102 501]]\n"
     ]
    }
   ],
   "source": [
    "conf_matrix = confusion_matrix(y_test, predict)\n",
    "print(conf_matrix)"
   ]
  },
  {
   "cell_type": "code",
   "execution_count": 35,
   "id": "181bc59f",
   "metadata": {},
   "outputs": [
    {
     "data": {
      "text/plain": [
       "<AxesSubplot:>"
      ]
     },
     "execution_count": 35,
     "metadata": {},
     "output_type": "execute_result"
    },
    {
     "data": {
      "image/png": "[encoded data removed]",
      "text/plain": [
       "<Figure size 432x288 with 2 Axes>"
      ]
     },
     "metadata": {
      "needs_background": "light"
     },
     "output_type": "display_data"
    }
   ],
   "source": [
    "sns.heatmap(conf_matrix/np.sum(conf_matrix),annot=True, fmt='.2%', cmap='Blues',\n",
    "            xticklabels=['negatif','netral','positif'], yticklabels=['negatif','netral','positif'])"
   ]
  },
  {
   "cell_type": "markdown",
   "id": "58a28a49",
   "metadata": {},
   "source": [
    "### Model 2 (CNN GlobalMaxPool)"
   ]
  },
  {
   "cell_type": "code",
   "execution_count": 36,
   "id": "e7f8e8c6",
   "metadata": {},
   "outputs": [
    {
     "name": "stdout",
     "output_type": "stream",
     "text": [
      "Model: \"sequential_1\"\n",
      "_________________________________________________________________\n",
      "Layer (type)                 Output Shape              Param #   \n",
      "=================================================================\n",
      "embedding_1 (Embedding)      (None, None, 256)         1280000   \n",
      "_________________________________________________________________\n",
      "conv1d_1 (Conv1D)            (None, None, 128)         262272    \n",
      "_________________________________________________________________\n",
      "global_max_pooling1d (Global (None, 128)               0         \n",
      "_________________________________________________________________\n",
      "dense_2 (Dense)              (None, 32)                4128      \n",
      "_________________________________________________________________\n",
      "dropout_1 (Dropout)          (None, 32)                0         \n",
      "_________________________________________________________________\n",
      "dense_3 (Dense)              (None, 3)                 99        \n",
      "=================================================================\n",
      "Total params: 1,546,499\n",
      "Trainable params: 1,546,499\n",
      "Non-trainable params: 0\n",
      "_________________________________________________________________\n"
     ]
    }
   ],
   "source": [
    "model_2 = tf.keras.Sequential([\n",
    "    tf.keras.layers.Embedding(input_dim=5000, output_dim=256),\n",
    "    tf.keras.layers.Conv1D(128, activation='relu',kernel_size=8),\n",
    "    tf.keras.layers.GlobalMaxPooling1D(),\n",
    "    tf.keras.layers.Dense(32, activation='relu'),\n",
    "    tf.keras.layers.Dropout(0.5),\n",
    "    tf.keras.layers.Dense(3, activation='softmax')\n",
    "  ])\n",
    "model_2.summary()"
   ]
  },
  {
   "cell_type": "code",
   "execution_count": 37,
   "id": "91869e33",
   "metadata": {},
   "outputs": [
    {
     "name": "stdout",
     "output_type": "stream",
     "text": [
      "Train on 3302 samples, validate on 1416 samples\n",
      "Epoch 1/20\n",
      "3302/3302 - 16s - loss: 0.7475 - accuracy: 0.6575 - val_loss: 0.5272 - val_accuracy: 0.7712\n",
      "Epoch 2/20\n",
      "3302/3302 - 14s - loss: 0.4512 - accuracy: 0.8310 - val_loss: 0.4808 - val_accuracy: 0.7818\n",
      "Epoch 3/20\n",
      "3302/3302 - 15s - loss: 0.2766 - accuracy: 0.9140 - val_loss: 0.5441 - val_accuracy: 0.7867\n",
      "Epoch 4/20\n",
      "3302/3302 - 15s - loss: 0.1955 - accuracy: 0.9388 - val_loss: 0.6411 - val_accuracy: 0.7797\n",
      "Epoch 5/20\n",
      "3302/3302 - 14s - loss: 0.1722 - accuracy: 0.9573 - val_loss: 0.6438 - val_accuracy: 0.7910\n",
      "Epoch 6/20\n",
      "3302/3302 - 15s - loss: 0.1282 - accuracy: 0.9615 - val_loss: 0.7198 - val_accuracy: 0.7874\n",
      "Epoch 7/20\n",
      "3302/3302 - 15s - loss: 0.1278 - accuracy: 0.9612 - val_loss: 0.7514 - val_accuracy: 0.7578\n",
      "Epoch 8/20\n",
      "3302/3302 - 15s - loss: 0.1157 - accuracy: 0.9658 - val_loss: 0.9152 - val_accuracy: 0.7839\n"
     ]
    }
   ],
   "source": [
    "model_2.compile(loss='categorical_crossentropy',\n",
    "              optimizer=tf.optimizers.Adam(lr=0.0018478498),\n",
    "              metrics=['accuracy'])\n",
    "# fit\n",
    "history = model_2.fit(padded_train, Y_train, epochs=20, verbose=2,callbacks=[early_stop], validation_data=(padded_test, Y_test))"
   ]
  },
  {
   "cell_type": "code",
   "execution_count": 38,
   "id": "daf9b010",
   "metadata": {},
   "outputs": [
    {
     "data": {
      "image/png": "[encoded data removed]",
      "text/plain": [
       "<Figure size 432x288 with 1 Axes>"
      ]
     },
     "metadata": {
      "needs_background": "light"
     },
     "output_type": "display_data"
    }
   ],
   "source": [
    "epoch = len(history.history['accuracy'])\n",
    "\n",
    "plt.plot(history.history['accuracy'])\n",
    "plt.plot(history.history['val_accuracy'])\n",
    "plt.axis([0,epoch-1,0,1])\n",
    "plt.title('Model CNN - Bidirectional LSTM')\n",
    "plt.ylabel('Accuracy')\n",
    "plt.xlabel('Epoch')\n",
    "plt.legend(['Train','Test'], loc='lower right')\n",
    "plt.show()"
   ]
  },
  {
   "cell_type": "code",
   "execution_count": 39,
   "id": "2885cafc",
   "metadata": {},
   "outputs": [],
   "source": [
    "predict = model_2.predict(padded_test)\n",
    "predict_train = model_2.predict(padded_train)"
   ]
  },
  {
   "cell_type": "code",
   "execution_count": 40,
   "id": "a502283d",
   "metadata": {},
   "outputs": [],
   "source": [
    "y_test = convert_predict_cnn(np.argmax(np.array(Y_test), axis=1))\n",
    "y_train = convert_predict_cnn(np.argmax(np.array(Y_train), axis=1))\n",
    "predict = convert_predict_cnn(np.argmax(predict, axis=1))\n",
    "predict_train = convert_predict_cnn(np.argmax(predict_train, axis=1))"
   ]
  },
  {
   "cell_type": "code",
   "execution_count": 41,
   "id": "ea9e9cf6",
   "metadata": {},
   "outputs": [
    {
     "name": "stdout",
     "output_type": "stream",
     "text": [
      "Akurasi Train =  0.9769836462749849\n",
      "Akurasi Test =  0.7838983050847458\n"
     ]
    }
   ],
   "source": [
    "train_accuracy = accuracy_score(y_train, predict_train)\n",
    "print(\"Akurasi Train = \",train_accuracy)\n",
    "\n",
    "test_accuracy = accuracy_score(y_test, predict)\n",
    "print(\"Akurasi Test = \",test_accuracy)"
   ]
  },
  {
   "cell_type": "code",
   "execution_count": 42,
   "id": "bed03564",
   "metadata": {},
   "outputs": [
    {
     "name": "stdout",
     "output_type": "stream",
     "text": [
      "Prediksi Test : Counter({'positif': 577, 'netral': 561, 'negatif': 278})\n",
      "True Value :  Counter({'positif': 627, 'netral': 489, 'negatif': 300})\n"
     ]
    }
   ],
   "source": [
    "print('Prediksi Test :', Counter(predict))\n",
    "print('True Value : ',Counter(y_test))"
   ]
  },
  {
   "cell_type": "code",
   "execution_count": 43,
   "id": "4ac165ca",
   "metadata": {},
   "outputs": [
    {
     "name": "stdout",
     "output_type": "stream",
     "text": [
      "              precision    recall  f1-score   support\n",
      "\n",
      "     negatif       0.79      0.74      0.76       300\n",
      "      netral       0.70      0.81      0.75       489\n",
      "     positif       0.86      0.79      0.82       627\n",
      "\n",
      "    accuracy                           0.78      1416\n",
      "   macro avg       0.79      0.78      0.78      1416\n",
      "weighted avg       0.79      0.78      0.79      1416\n",
      "\n"
     ]
    }
   ],
   "source": [
    "print(classification_report(y_test,predict))"
   ]
  },
  {
   "cell_type": "code",
   "execution_count": 44,
   "id": "0d0d8916",
   "metadata": {},
   "outputs": [
    {
     "name": "stdout",
     "output_type": "stream",
     "text": [
      "[[221  56  23]\n",
      " [ 34 395  60]\n",
      " [ 23 110 494]]\n"
     ]
    }
   ],
   "source": [
    "conf_matrix = confusion_matrix(y_test, predict)\n",
    "print(conf_matrix)"
   ]
  },
  {
   "cell_type": "code",
   "execution_count": 45,
   "id": "8f7c7973",
   "metadata": {},
   "outputs": [
    {
     "data": {
      "text/plain": [
       "<AxesSubplot:>"
      ]
     },
     "execution_count": 45,
     "metadata": {},
     "output_type": "execute_result"
    },
    {
     "data": {
      "image/png": "[encoded data removed]",
      "text/plain": [
       "<Figure size 432x288 with 2 Axes>"
      ]
     },
     "metadata": {
      "needs_background": "light"
     },
     "output_type": "display_data"
    }
   ],
   "source": [
    "sns.heatmap(conf_matrix/np.sum(conf_matrix),annot=True, fmt='.2%', cmap='Blues',\n",
    "            xticklabels=['negatif','netral','positif'], yticklabels=['negatif','netral','positif'])"
   ]
  },
  {
   "cell_type": "markdown",
   "id": "61056ca8",
   "metadata": {},
   "source": [
    "### Model 3 (CNN - LSTM)"
   ]
  },
  {
   "cell_type": "code",
   "execution_count": 46,
   "id": "aae50fd0",
   "metadata": {},
   "outputs": [
    {
     "name": "stdout",
     "output_type": "stream",
     "text": [
      "Model: \"sequential_2\"\n",
      "_________________________________________________________________\n",
      "Layer (type)                 Output Shape              Param #   \n",
      "=================================================================\n",
      "embedding_2 (Embedding)      (None, None, 256)         1280000   \n",
      "_________________________________________________________________\n",
      "conv1d_2 (Conv1D)            (None, None, 128)         262272    \n",
      "_________________________________________________________________\n",
      "lstm_1 (LSTM)                (None, 32)                20608     \n",
      "_________________________________________________________________\n",
      "dense_4 (Dense)              (None, 32)                1056      \n",
      "_________________________________________________________________\n",
      "dropout_2 (Dropout)          (None, 32)                0         \n",
      "_________________________________________________________________\n",
      "dense_5 (Dense)              (None, 3)                 99        \n",
      "=================================================================\n",
      "Total params: 1,564,035\n",
      "Trainable params: 1,564,035\n",
      "Non-trainable params: 0\n",
      "_________________________________________________________________\n"
     ]
    }
   ],
   "source": [
    "model_3 = tf.keras.Sequential([\n",
    "    tf.keras.layers.Embedding(input_dim=5000, output_dim=256),\n",
    "    tf.keras.layers.Conv1D(128, activation='relu',kernel_size=8),\n",
    "    tf.keras.layers.LSTM(32),\n",
    "    tf.keras.layers.Dense(32, activation='relu'),\n",
    "    tf.keras.layers.Dropout(0.5),\n",
    "    tf.keras.layers.Dense(3, activation='softmax')\n",
    "  ])\n",
    "model_3.summary()"
   ]
  },
  {
   "cell_type": "code",
   "execution_count": 47,
   "id": "59799e66",
   "metadata": {},
   "outputs": [
    {
     "name": "stdout",
     "output_type": "stream",
     "text": [
      "Train on 3302 samples, validate on 1416 samples\n",
      "Epoch 1/20\n",
      "3302/3302 - 20s - loss: 0.7223 - accuracy: 0.6778 - val_loss: 0.5306 - val_accuracy: 0.7761\n",
      "Epoch 2/20\n",
      "3302/3302 - 16s - loss: 0.4055 - accuracy: 0.8471 - val_loss: 0.5121 - val_accuracy: 0.7782\n",
      "Epoch 3/20\n",
      "3302/3302 - 16s - loss: 0.2418 - accuracy: 0.9204 - val_loss: 0.6202 - val_accuracy: 0.7846\n",
      "Epoch 4/20\n",
      "3302/3302 - 16s - loss: 0.1728 - accuracy: 0.9409 - val_loss: 0.7069 - val_accuracy: 0.7910\n",
      "Epoch 5/20\n",
      "3302/3302 - 16s - loss: 0.1424 - accuracy: 0.9564 - val_loss: 0.8578 - val_accuracy: 0.7867\n",
      "Epoch 6/20\n",
      "3302/3302 - 16s - loss: 0.1136 - accuracy: 0.9640 - val_loss: 0.9469 - val_accuracy: 0.7775\n",
      "Epoch 7/20\n",
      "3302/3302 - 16s - loss: 0.0902 - accuracy: 0.9721 - val_loss: 1.1148 - val_accuracy: 0.7839\n",
      "Epoch 8/20\n",
      "3302/3302 - 16s - loss: 0.0815 - accuracy: 0.9718 - val_loss: 1.2513 - val_accuracy: 0.7733\n"
     ]
    }
   ],
   "source": [
    "model_3.compile(loss='categorical_crossentropy',\n",
    "              optimizer=tf.optimizers.Adam(lr=0.0018478498),\n",
    "              metrics=['accuracy'])\n",
    "# fit\n",
    "history = model_3.fit(padded_train, Y_train, epochs=20, verbose=2,callbacks=[early_stop], validation_data=(padded_test, Y_test))"
   ]
  },
  {
   "cell_type": "code",
   "execution_count": 48,
   "id": "099c9888",
   "metadata": {},
   "outputs": [
    {
     "data": {
      "image/png": "[encoded data removed]",
      "text/plain": [
       "<Figure size 432x288 with 1 Axes>"
      ]
     },
     "metadata": {
      "needs_background": "light"
     },
     "output_type": "display_data"
    }
   ],
   "source": [
    "epoch = len(history.history['accuracy'])\n",
    "\n",
    "plt.plot(history.history['accuracy'])\n",
    "plt.plot(history.history['val_accuracy'])\n",
    "plt.axis([0,epoch-1,0,1])\n",
    "plt.title('Model CNN - Bidirectional LSTM')\n",
    "plt.ylabel('Accuracy')\n",
    "plt.xlabel('Epoch')\n",
    "plt.legend(['Train','Test'], loc='lower right')\n",
    "plt.show()"
   ]
  },
  {
   "cell_type": "code",
   "execution_count": 49,
   "id": "55574eff",
   "metadata": {},
   "outputs": [],
   "source": [
    "predict = model_3.predict(padded_test)\n",
    "predict_train = model_3.predict(padded_train)"
   ]
  },
  {
   "cell_type": "code",
   "execution_count": 50,
   "id": "34ea4d58",
   "metadata": {},
   "outputs": [],
   "source": [
    "y_test = convert_predict_cnn(np.argmax(np.array(Y_test), axis=1))\n",
    "y_train = convert_predict_cnn(np.argmax(np.array(Y_train), axis=1))\n",
    "predict = convert_predict_cnn(np.argmax(predict, axis=1))\n",
    "predict_train = convert_predict_cnn(np.argmax(predict_train, axis=1))"
   ]
  },
  {
   "cell_type": "code",
   "execution_count": 51,
   "id": "afacc2e2",
   "metadata": {},
   "outputs": [
    {
     "name": "stdout",
     "output_type": "stream",
     "text": [
      "Akurasi Train =  0.9781950333131435\n",
      "Akurasi Test =  0.7733050847457628\n"
     ]
    }
   ],
   "source": [
    "train_accuracy = accuracy_score(y_train, predict_train)\n",
    "print(\"Akurasi Train = \",train_accuracy)\n",
    "\n",
    "test_accuracy = accuracy_score(y_test, predict)\n",
    "print(\"Akurasi Test = \",test_accuracy)"
   ]
  },
  {
   "cell_type": "code",
   "execution_count": 52,
   "id": "4113586b",
   "metadata": {},
   "outputs": [
    {
     "name": "stdout",
     "output_type": "stream",
     "text": [
      "Prediksi Test : Counter({'netral': 577, 'positif': 545, 'negatif': 294})\n",
      "True Value :  Counter({'positif': 627, 'netral': 489, 'negatif': 300})\n"
     ]
    }
   ],
   "source": [
    "print('Prediksi Test :', Counter(predict))\n",
    "print('True Value : ',Counter(y_test))"
   ]
  },
  {
   "cell_type": "code",
   "execution_count": 53,
   "id": "e1d1bc9b",
   "metadata": {},
   "outputs": [
    {
     "name": "stdout",
     "output_type": "stream",
     "text": [
      "              precision    recall  f1-score   support\n",
      "\n",
      "     negatif       0.77      0.75      0.76       300\n",
      "      netral       0.69      0.81      0.74       489\n",
      "     positif       0.87      0.75      0.81       627\n",
      "\n",
      "    accuracy                           0.77      1416\n",
      "   macro avg       0.77      0.77      0.77      1416\n",
      "weighted avg       0.78      0.77      0.78      1416\n",
      "\n"
     ]
    }
   ],
   "source": [
    "print(classification_report(y_test,predict))"
   ]
  },
  {
   "cell_type": "code",
   "execution_count": 54,
   "id": "5aa85c28",
   "metadata": {},
   "outputs": [
    {
     "name": "stdout",
     "output_type": "stream",
     "text": [
      "[[226  51  23]\n",
      " [ 44 396  49]\n",
      " [ 24 130 473]]\n"
     ]
    }
   ],
   "source": [
    "conf_matrix = confusion_matrix(y_test, predict)\n",
    "print(conf_matrix)"
   ]
  },
  {
   "cell_type": "code",
   "execution_count": 55,
   "id": "15943866",
   "metadata": {},
   "outputs": [
    {
     "data": {
      "text/plain": [
       "<AxesSubplot:>"
      ]
     },
     "execution_count": 55,
     "metadata": {},
     "output_type": "execute_result"
    },
    {
     "data": {
      "image/png": "[encoded data removed]",
      "text/plain": [
       "<Figure size 432x288 with 2 Axes>"
      ]
     },
     "metadata": {
      "needs_background": "light"
     },
     "output_type": "display_data"
    }
   ],
   "source": [
    "sns.heatmap(conf_matrix/np.sum(conf_matrix),annot=True, fmt='.2%', cmap='Blues',\n",
    "            xticklabels=['negatif','netral','positif'], yticklabels=['negatif','netral','positif'])"
   ]
  },
  {
   "cell_type": "markdown",
   "id": "5775e717",
   "metadata": {},
   "source": [
    "# KFold k=5"
   ]
  },
  {
   "cell_type": "code",
   "execution_count": 56,
   "id": "f59f3da9",
   "metadata": {},
   "outputs": [],
   "source": [
    "from sklearn.model_selection import StratifiedKFold\n",
    "\n",
    "skf = StratifiedKFold(n_splits=5, shuffle=True, random_state=123)"
   ]
  },
  {
   "cell_type": "markdown",
   "id": "5499293b",
   "metadata": {},
   "source": [
    "## NBC"
   ]
  },
  {
   "cell_type": "code",
   "execution_count": 57,
   "id": "c3ff1c69",
   "metadata": {},
   "outputs": [],
   "source": [
    "#NBC\n",
    "model_nbc = MultinomialNB()\n",
    "train_scores = []\n",
    "test_scores = []\n",
    "predict_value = []\n",
    "report = []\n",
    "index = []\n",
    "\n",
    "for train_index, test_index in skf.split(tf_idf, sentiment):\n",
    "    index.append([train_index, test_index])\n",
    "    X_train = tf_idf[train_index]\n",
    "    X_test = tf_idf[test_index]\n",
    "    y_train = sentiment[train_index]\n",
    "    y_test = sentiment[test_index]\n",
    "\n",
    "    #Train the model\n",
    "    model_nbc.fit(X_train, y_train)\n",
    "    \n",
    "    train_yhat = model_nbc.predict(X_train)\n",
    "    train_acc = metrics.accuracy_score(y_train, train_yhat)\n",
    "    train_scores.append(train_acc)\n",
    "    \n",
    "    # evaluate on the test dataset\n",
    "    test_yhat = model_nbc.predict(X_test)\n",
    "    test_acc = metrics.accuracy_score(y_test, test_yhat)\n",
    "    test_scores.append(test_acc)\n",
    "    report.append(classification_report(y_test, test_yhat))\n",
    "    predict_value.append(test_yhat)\n",
    "    "
   ]
  },
  {
   "cell_type": "code",
   "execution_count": 58,
   "id": "0ec7c7e5",
   "metadata": {},
   "outputs": [],
   "source": [
    "df_score = pd.DataFrame(data = {'Akurasi Train': train_scores, \n",
    "                                'Akurasi Test': test_scores}, \n",
    "             index=['K'+str(i) for i in range(1, 1+len(train_scores))])"
   ]
  },
  {
   "cell_type": "code",
   "execution_count": 59,
   "id": "3d10d9d4",
   "metadata": {},
   "outputs": [
    {
     "data": {
      "text/html": [
       "<div>\n",
       "<style scoped>\n",
       "    .dataframe tbody tr th:only-of-type {\n",
       "        vertical-align: middle;\n",
       "    }\n",
       "\n",
       "    .dataframe tbody tr th {\n",
       "        vertical-align: top;\n",
       "    }\n",
       "\n",
       "    .dataframe thead th {\n",
       "        text-align: right;\n",
       "    }\n",
       "</style>\n",
       "<table border=\"1\" class=\"dataframe\">\n",
       "  <thead>\n",
       "    <tr style=\"text-align: right;\">\n",
       "      <th></th>\n",
       "      <th>Akurasi Train</th>\n",
       "      <th>Akurasi Test</th>\n",
       "    </tr>\n",
       "  </thead>\n",
       "  <tbody>\n",
       "    <tr>\n",
       "      <th>K1</th>\n",
       "      <td>0.844197</td>\n",
       "      <td>0.770127</td>\n",
       "    </tr>\n",
       "    <tr>\n",
       "      <th>K2</th>\n",
       "      <td>0.845522</td>\n",
       "      <td>0.751059</td>\n",
       "    </tr>\n",
       "    <tr>\n",
       "      <th>K3</th>\n",
       "      <td>0.843667</td>\n",
       "      <td>0.751059</td>\n",
       "    </tr>\n",
       "    <tr>\n",
       "      <th>K4</th>\n",
       "      <td>0.842649</td>\n",
       "      <td>0.777306</td>\n",
       "    </tr>\n",
       "    <tr>\n",
       "      <th>K5</th>\n",
       "      <td>0.847682</td>\n",
       "      <td>0.716861</td>\n",
       "    </tr>\n",
       "  </tbody>\n",
       "</table>\n",
       "</div>"
      ],
      "text/plain": [
       "    Akurasi Train  Akurasi Test\n",
       "K1       0.844197      0.770127\n",
       "K2       0.845522      0.751059\n",
       "K3       0.843667      0.751059\n",
       "K4       0.842649      0.777306\n",
       "K5       0.847682      0.716861"
      ]
     },
     "execution_count": 59,
     "metadata": {},
     "output_type": "execute_result"
    }
   ],
   "source": [
    "df_score"
   ]
  },
  {
   "cell_type": "code",
   "execution_count": 60,
   "id": "6970c823",
   "metadata": {},
   "outputs": [
    {
     "data": {
      "image/png": "[encoded data removed]",
      "text/plain": [
       "<Figure size 576x360 with 1 Axes>"
      ]
     },
     "metadata": {
      "needs_background": "light"
     },
     "output_type": "display_data"
    }
   ],
   "source": [
    "fig, ax = plt.subplots(figsize=(8,5))\n",
    "x = np.arange(5)  # the label locations\n",
    "width = 0.4  # the width of the bars\n",
    "rects1 = ax.bar(x - width/2, train_scores, width, label='Train')\n",
    "rects2 = ax.bar(x + width/2, test_scores, width, label='Val')\n",
    "\n",
    "# Add some text for labels, title and custom x-axis tick labels, etc.\n",
    "ax.set_ylabel('Akurasi')\n",
    "ax.set_title('Akurasi CNN dari tiap Kfold')\n",
    "ax.set_xticks(x)\n",
    "ax.set_xticklabels(['K1','K2','K3','K4','K5'])\n",
    "ax.legend()\n",
    "\n",
    "# ax.bar_label(rects1, padding=3)\n",
    "# ax.bar_label(rects2, padding=3)\n",
    "\n",
    "fig.tight_layout()\n",
    "\n",
    "plt.show()"
   ]
  },
  {
   "cell_type": "code",
   "execution_count": 61,
   "id": "cf20d51c",
   "metadata": {},
   "outputs": [],
   "source": [
    "n = test_scores.index(max(test_scores))\n",
    "\n",
    "y_test = sentiment[index[n][1]]"
   ]
  },
  {
   "cell_type": "code",
   "execution_count": 62,
   "id": "6481ba73",
   "metadata": {},
   "outputs": [
    {
     "name": "stdout",
     "output_type": "stream",
     "text": [
      "Best Train Acc :  0.8426490066225165\n",
      "Best Test Acc :  0.777306468716861\n"
     ]
    }
   ],
   "source": [
    "print('Best Train Acc : ',train_scores[n])\n",
    "print('Best Test Acc : ',test_scores[n])"
   ]
  },
  {
   "cell_type": "code",
   "execution_count": 63,
   "id": "5c546571",
   "metadata": {},
   "outputs": [
    {
     "name": "stdout",
     "output_type": "stream",
     "text": [
      "              precision    recall  f1-score   support\n",
      "\n",
      "     negatif       0.85      0.66      0.74       192\n",
      "      netral       0.81      0.69      0.74       344\n",
      "     positif       0.74      0.91      0.81       407\n",
      "\n",
      "    accuracy                           0.78       943\n",
      "   macro avg       0.80      0.75      0.77       943\n",
      "weighted avg       0.79      0.78      0.77       943\n",
      "\n"
     ]
    }
   ],
   "source": [
    "print(report[n])"
   ]
  },
  {
   "cell_type": "code",
   "execution_count": 64,
   "id": "4cb8bebb",
   "metadata": {},
   "outputs": [
    {
     "name": "stdout",
     "output_type": "stream",
     "text": [
      "[[126  24  42]\n",
      " [ 18 237  89]\n",
      " [  5  32 370]]\n"
     ]
    }
   ],
   "source": [
    "conf_matrix = confusion_matrix(y_test, predict_value[n])\n",
    "print(conf_matrix)"
   ]
  },
  {
   "cell_type": "code",
   "execution_count": 65,
   "id": "7fc7f349",
   "metadata": {},
   "outputs": [
    {
     "data": {
      "text/plain": [
       "<AxesSubplot:>"
      ]
     },
     "execution_count": 65,
     "metadata": {},
     "output_type": "execute_result"
    },
    {
     "data": {
      "image/png": "[encoded data removed]",
      "text/plain": [
       "<Figure size 432x288 with 2 Axes>"
      ]
     },
     "metadata": {
      "needs_background": "light"
     },
     "output_type": "display_data"
    }
   ],
   "source": [
    "sns.heatmap(conf_matrix/np.sum(conf_matrix),annot=True, fmt='.2%', cmap='Blues',\n",
    "            xticklabels=['negatif','netral','positif'], yticklabels=['negatif','netral','positif'])"
   ]
  },
  {
   "cell_type": "markdown",
   "id": "5d1813e1",
   "metadata": {},
   "source": [
    "## CNN - Bidirectional LSTM"
   ]
  },
  {
   "cell_type": "code",
   "execution_count": 66,
   "id": "024772ea",
   "metadata": {},
   "outputs": [
    {
     "name": "stdout",
     "output_type": "stream",
     "text": [
      "Model: \"sequential_3\"\n",
      "_________________________________________________________________\n",
      "Layer (type)                 Output Shape              Param #   \n",
      "=================================================================\n",
      "embedding_3 (Embedding)      (None, None, 256)         1280000   \n",
      "_________________________________________________________________\n",
      "conv1d_3 (Conv1D)            (None, None, 128)         262272    \n",
      "_________________________________________________________________\n",
      "bidirectional_1 (Bidirection (None, 64)                41216     \n",
      "_________________________________________________________________\n",
      "dense_6 (Dense)              (None, 32)                2080      \n",
      "_________________________________________________________________\n",
      "dropout_3 (Dropout)          (None, 32)                0         \n",
      "_________________________________________________________________\n",
      "dense_7 (Dense)              (None, 3)                 99        \n",
      "=================================================================\n",
      "Total params: 1,585,667\n",
      "Trainable params: 1,585,667\n",
      "Non-trainable params: 0\n",
      "_________________________________________________________________\n"
     ]
    }
   ],
   "source": [
    "model_1 = tf.keras.Sequential([\n",
    "    tf.keras.layers.Embedding(input_dim=5000, output_dim=256),\n",
    "    tf.keras.layers.Conv1D(128, activation='relu',kernel_size=8),\n",
    "    tf.keras.layers.Bidirectional(tf.keras.layers.LSTM(32)),\n",
    "    tf.keras.layers.Dense(32, activation='relu'),\n",
    "    tf.keras.layers.Dropout(0.5),\n",
    "    tf.keras.layers.Dense(3, activation='softmax')\n",
    "  ])\n",
    "model_1.summary()"
   ]
  },
  {
   "cell_type": "code",
   "execution_count": 116,
   "id": "09b91f5d",
   "metadata": {},
   "outputs": [],
   "source": [
    "train_scores = []\n",
    "test_scores = []\n",
    "predict_value = []\n",
    "report = []\n",
    "index = []\n",
    "final_tweet = df['final_tweet'].to_numpy()\n",
    "sentiment = df['sentiment'].to_numpy()\n",
    "for train_index, test_index in skf.split(final_tweet, sentiment):\n",
    "    index.append([train_index, test_index])\n",
    "    X_train = final_tweet[train_index]\n",
    "    X_test = final_tweet[test_index]\n",
    "    y_train = pd.get_dummies(sentiment[train_index])\n",
    "    y_test = pd.get_dummies(sentiment[test_index])\n",
    "\n",
    "    padded_train, padded_test = preprocessing_cnn(X_train,X_test)\n",
    "    \n",
    "    model_1.compile(loss='categorical_crossentropy', optimizer=tf.optimizers.Adam(lr=0.0039810715),\n",
    "              metrics=['accuracy'])\n",
    "    # train model\n",
    "    model_1.fit(padded_train, y_train, epochs=20, verbose=0,callbacks=[early_stop], validation_data=(padded_test, y_test))\n",
    "    \n",
    "    #convert label\n",
    "    y_test = convert_predict_cnn(np.argmax(np.array(y_test), axis=1))\n",
    "    y_train = convert_predict_cnn(np.argmax(np.array(y_train), axis=1))\n",
    "    \n",
    "    train_yhat = convert_predict_cnn(np.argmax(model_1.predict(padded_train),axis=1))\n",
    "    train_acc = metrics.accuracy_score(y_train, train_yhat)\n",
    "    train_scores.append(train_acc)\n",
    "    # evaluate on the test dataset\n",
    "    test_yhat = convert_predict_cnn(np.argmax(model_1.predict(padded_test),axis=1))\n",
    "    test_acc = metrics.accuracy_score(y_test, test_yhat)\n",
    "    test_scores.append(test_acc)\n",
    "    report.append(classification_report(y_test, test_yhat))\n",
    "    predict_value.append(test_yhat)"
   ]
  },
  {
   "cell_type": "code",
   "execution_count": 117,
   "id": "74299fd2",
   "metadata": {},
   "outputs": [],
   "source": [
    "df_score = pd.DataFrame(data = {'Akurasi Train': train_scores, \n",
    "                                'Akurasi Test': test_scores}, \n",
    "             index=['K'+str(i) for i in range(1, 1+len(train_scores))])"
   ]
  },
  {
   "cell_type": "code",
   "execution_count": 118,
   "id": "bb74522c",
   "metadata": {},
   "outputs": [
    {
     "data": {
      "text/html": [
       "<div>\n",
       "<style scoped>\n",
       "    .dataframe tbody tr th:only-of-type {\n",
       "        vertical-align: middle;\n",
       "    }\n",
       "\n",
       "    .dataframe tbody tr th {\n",
       "        vertical-align: top;\n",
       "    }\n",
       "\n",
       "    .dataframe thead th {\n",
       "        text-align: right;\n",
       "    }\n",
       "</style>\n",
       "<table border=\"1\" class=\"dataframe\">\n",
       "  <thead>\n",
       "    <tr style=\"text-align: right;\">\n",
       "      <th></th>\n",
       "      <th>Akurasi Train</th>\n",
       "      <th>Akurasi Test</th>\n",
       "    </tr>\n",
       "  </thead>\n",
       "  <tbody>\n",
       "    <tr>\n",
       "      <th>K1</th>\n",
       "      <td>0.983042</td>\n",
       "      <td>0.831568</td>\n",
       "    </tr>\n",
       "    <tr>\n",
       "      <th>K2</th>\n",
       "      <td>0.981452</td>\n",
       "      <td>0.818856</td>\n",
       "    </tr>\n",
       "    <tr>\n",
       "      <th>K3</th>\n",
       "      <td>0.978272</td>\n",
       "      <td>0.823093</td>\n",
       "    </tr>\n",
       "    <tr>\n",
       "      <th>K4</th>\n",
       "      <td>0.981987</td>\n",
       "      <td>0.822906</td>\n",
       "    </tr>\n",
       "    <tr>\n",
       "      <th>K5</th>\n",
       "      <td>0.980662</td>\n",
       "      <td>0.814422</td>\n",
       "    </tr>\n",
       "  </tbody>\n",
       "</table>\n",
       "</div>"
      ],
      "text/plain": [
       "    Akurasi Train  Akurasi Test\n",
       "K1       0.983042      0.831568\n",
       "K2       0.981452      0.818856\n",
       "K3       0.978272      0.823093\n",
       "K4       0.981987      0.822906\n",
       "K5       0.980662      0.814422"
      ]
     },
     "execution_count": 118,
     "metadata": {},
     "output_type": "execute_result"
    }
   ],
   "source": [
    "df_score"
   ]
  },
  {
   "cell_type": "code",
   "execution_count": 119,
   "id": "adcff049",
   "metadata": {
    "scrolled": true
   },
   "outputs": [
    {
     "data": {
      "image/png": "[encoded data removed]",
      "text/plain": [
       "<Figure size 576x360 with 1 Axes>"
      ]
     },
     "metadata": {
      "needs_background": "light"
     },
     "output_type": "display_data"
    }
   ],
   "source": [
    "fig, ax = plt.subplots(figsize=(8,5))\n",
    "x = np.arange(5)  # the label locations\n",
    "width = 0.4  # the width of the bars\n",
    "rects1 = ax.bar(x - width/2, train_scores, width, label='Train')\n",
    "rects2 = ax.bar(x + width/2, test_scores, width, label='Val')\n",
    "\n",
    "# Add some text for labels, title and custom x-axis tick labels, etc.\n",
    "ax.set_ylabel('Akurasi')\n",
    "ax.set_title('Akurasi CNN dari tiap Kfold')\n",
    "ax.set_xticks(x)\n",
    "ax.set_xticklabels(['K1','K2','K3','K4','K5'])\n",
    "ax.legend()\n",
    "\n",
    "# ax.bar_label(rects1, padding=3)\n",
    "# ax.bar_label(rects2, padding=3)\n",
    "\n",
    "fig.tight_layout()\n",
    "\n",
    "plt.show()"
   ]
  },
  {
   "cell_type": "code",
   "execution_count": 120,
   "id": "cf2ba94f",
   "metadata": {},
   "outputs": [],
   "source": [
    "n = test_scores.index(max(test_scores))\n",
    "\n",
    "y_test = sentiment[index[n][1]]"
   ]
  },
  {
   "cell_type": "code",
   "execution_count": 121,
   "id": "0ee563be",
   "metadata": {},
   "outputs": [
    {
     "name": "stdout",
     "output_type": "stream",
     "text": [
      "Best Train Acc :  0.9830418653948065\n",
      "Best Test Acc :  0.8315677966101694\n"
     ]
    }
   ],
   "source": [
    "print('Best Train Acc : ',train_scores[n])\n",
    "print('Best Test Acc : ',test_scores[n])"
   ]
  },
  {
   "cell_type": "code",
   "execution_count": 122,
   "id": "463defb9",
   "metadata": {},
   "outputs": [
    {
     "name": "stdout",
     "output_type": "stream",
     "text": [
      "              precision    recall  f1-score   support\n",
      "\n",
      "     negatif       0.83      0.81      0.82       192\n",
      "      netral       0.83      0.79      0.81       345\n",
      "     positif       0.83      0.88      0.86       407\n",
      "\n",
      "    accuracy                           0.83       944\n",
      "   macro avg       0.83      0.83      0.83       944\n",
      "weighted avg       0.83      0.83      0.83       944\n",
      "\n"
     ]
    }
   ],
   "source": [
    "print(report[n])"
   ]
  },
  {
   "cell_type": "code",
   "execution_count": 123,
   "id": "6be97e91",
   "metadata": {},
   "outputs": [
    {
     "name": "stdout",
     "output_type": "stream",
     "text": [
      "[[156  19  17]\n",
      " [ 19 272  54]\n",
      " [ 14  36 357]]\n"
     ]
    }
   ],
   "source": [
    "conf_matrix = confusion_matrix(y_test, predict_value[n])\n",
    "print(conf_matrix)"
   ]
  },
  {
   "cell_type": "code",
   "execution_count": 124,
   "id": "50114e6a",
   "metadata": {},
   "outputs": [
    {
     "data": {
      "text/plain": [
       "<AxesSubplot:>"
      ]
     },
     "execution_count": 124,
     "metadata": {},
     "output_type": "execute_result"
    },
    {
     "data": {
      "image/png": "[encoded data removed]",
      "text/plain": [
       "<Figure size 432x288 with 2 Axes>"
      ]
     },
     "metadata": {
      "needs_background": "light"
     },
     "output_type": "display_data"
    }
   ],
   "source": [
    "sns.heatmap(conf_matrix/np.sum(conf_matrix),annot=True, fmt='.2%', cmap='Blues',\n",
    "            xticklabels=['negatif','netral','positif'], yticklabels=['negatif','netral','positif'])"
   ]
  },
  {
   "cell_type": "markdown",
   "id": "6d905329",
   "metadata": {},
   "source": [
    "## CNN Global MaxPool"
   ]
  },
  {
   "cell_type": "code",
   "execution_count": 76,
   "id": "400fa60c",
   "metadata": {},
   "outputs": [
    {
     "name": "stdout",
     "output_type": "stream",
     "text": [
      "Model: \"sequential_4\"\n",
      "_________________________________________________________________\n",
      "Layer (type)                 Output Shape              Param #   \n",
      "=================================================================\n",
      "embedding_4 (Embedding)      (None, None, 256)         1280000   \n",
      "_________________________________________________________________\n",
      "conv1d_4 (Conv1D)            (None, None, 128)         262272    \n",
      "_________________________________________________________________\n",
      "global_max_pooling1d_1 (Glob (None, 128)               0         \n",
      "_________________________________________________________________\n",
      "dense_8 (Dense)              (None, 32)                4128      \n",
      "_________________________________________________________________\n",
      "dropout_4 (Dropout)          (None, 32)                0         \n",
      "_________________________________________________________________\n",
      "dense_9 (Dense)              (None, 3)                 99        \n",
      "=================================================================\n",
      "Total params: 1,546,499\n",
      "Trainable params: 1,546,499\n",
      "Non-trainable params: 0\n",
      "_________________________________________________________________\n"
     ]
    }
   ],
   "source": [
    "model_2 = tf.keras.Sequential([\n",
    "    tf.keras.layers.Embedding(input_dim=5000, output_dim=256),\n",
    "    tf.keras.layers.Conv1D(128, activation='relu',kernel_size=8),\n",
    "    tf.keras.layers.GlobalMaxPooling1D(),\n",
    "    tf.keras.layers.Dense(32, activation='relu'),\n",
    "    tf.keras.layers.Dropout(0.5),\n",
    "    tf.keras.layers.Dense(3, activation='softmax')\n",
    "  ])\n",
    "model_2.summary()"
   ]
  },
  {
   "cell_type": "code",
   "execution_count": 97,
   "id": "19c75760",
   "metadata": {},
   "outputs": [],
   "source": [
    "train_scores = []\n",
    "test_scores = []\n",
    "predict_value = []\n",
    "report = []\n",
    "index = []\n",
    "final_tweet = df['final_tweet'].to_numpy()\n",
    "sentiment = df['sentiment'].to_numpy()\n",
    "for train_index, test_index in skf.split(final_tweet, sentiment):\n",
    "    index.append([train_index, test_index])\n",
    "    X_train = final_tweet[train_index]\n",
    "    X_test = final_tweet[test_index]\n",
    "    y_train = pd.get_dummies(sentiment[train_index])\n",
    "    y_test = pd.get_dummies(sentiment[test_index])\n",
    "\n",
    "    padded_train, padded_test = preprocessing_cnn(X_train,X_test)\n",
    "    \n",
    "    model_2.compile(loss='categorical_crossentropy', optimizer=tf.optimizers.Adam(lr=0.0018478498),\n",
    "              metrics=['accuracy'])\n",
    "    # train model\n",
    "    model_2.fit(padded_train, y_train, epochs=20, verbose=0,callbacks=[early_stop], validation_data=(padded_test, y_test))\n",
    "    \n",
    "    #convert label\n",
    "    y_test = convert_predict_cnn(np.argmax(np.array(y_test), axis=1))\n",
    "    y_train = convert_predict_cnn(np.argmax(np.array(y_train), axis=1))\n",
    "    \n",
    "    train_yhat = convert_predict_cnn(np.argmax(model_2.predict(padded_train),axis=1))\n",
    "    train_acc = metrics.accuracy_score(y_train, train_yhat)\n",
    "    train_scores.append(train_acc)\n",
    "    # evaluate on the test dataset\n",
    "    test_yhat = convert_predict_cnn(np.argmax(model_2.predict(padded_test),axis=1))\n",
    "    test_acc = metrics.accuracy_score(y_test, test_yhat)\n",
    "    test_scores.append(test_acc)\n",
    "    report.append(classification_report(y_test, test_yhat))\n",
    "    predict_value.append(test_yhat)"
   ]
  },
  {
   "cell_type": "code",
   "execution_count": 98,
   "id": "88c188e2",
   "metadata": {},
   "outputs": [],
   "source": [
    "df_score = pd.DataFrame(data = {'Akurasi Train': train_scores, \n",
    "                                'Akurasi Test': test_scores}, \n",
    "             index=['K'+str(i) for i in range(1, 1+len(train_scores))])"
   ]
  },
  {
   "cell_type": "code",
   "execution_count": 99,
   "id": "7f15a8ea",
   "metadata": {},
   "outputs": [
    {
     "data": {
      "text/html": [
       "<div>\n",
       "<style scoped>\n",
       "    .dataframe tbody tr th:only-of-type {\n",
       "        vertical-align: middle;\n",
       "    }\n",
       "\n",
       "    .dataframe tbody tr th {\n",
       "        vertical-align: top;\n",
       "    }\n",
       "\n",
       "    .dataframe thead th {\n",
       "        text-align: right;\n",
       "    }\n",
       "</style>\n",
       "<table border=\"1\" class=\"dataframe\">\n",
       "  <thead>\n",
       "    <tr style=\"text-align: right;\">\n",
       "      <th></th>\n",
       "      <th>Akurasi Train</th>\n",
       "      <th>Akurasi Test</th>\n",
       "    </tr>\n",
       "  </thead>\n",
       "  <tbody>\n",
       "    <tr>\n",
       "      <th>K1</th>\n",
       "      <td>0.980392</td>\n",
       "      <td>0.868644</td>\n",
       "    </tr>\n",
       "    <tr>\n",
       "      <th>K2</th>\n",
       "      <td>0.980392</td>\n",
       "      <td>0.866525</td>\n",
       "    </tr>\n",
       "    <tr>\n",
       "      <th>K3</th>\n",
       "      <td>0.976948</td>\n",
       "      <td>0.847458</td>\n",
       "    </tr>\n",
       "    <tr>\n",
       "      <th>K4</th>\n",
       "      <td>0.981722</td>\n",
       "      <td>0.838812</td>\n",
       "    </tr>\n",
       "    <tr>\n",
       "      <th>K5</th>\n",
       "      <td>0.979338</td>\n",
       "      <td>0.853659</td>\n",
       "    </tr>\n",
       "  </tbody>\n",
       "</table>\n",
       "</div>"
      ],
      "text/plain": [
       "    Akurasi Train  Akurasi Test\n",
       "K1       0.980392      0.868644\n",
       "K2       0.980392      0.866525\n",
       "K3       0.976948      0.847458\n",
       "K4       0.981722      0.838812\n",
       "K5       0.979338      0.853659"
      ]
     },
     "execution_count": 99,
     "metadata": {},
     "output_type": "execute_result"
    }
   ],
   "source": [
    "df_score"
   ]
  },
  {
   "cell_type": "code",
   "execution_count": 100,
   "id": "24dd38f7",
   "metadata": {},
   "outputs": [
    {
     "data": {
      "image/png": "[encoded data removed]",
      "text/plain": [
       "<Figure size 576x360 with 1 Axes>"
      ]
     },
     "metadata": {
      "needs_background": "light"
     },
     "output_type": "display_data"
    }
   ],
   "source": [
    "fig, ax = plt.subplots(figsize=(8,5))\n",
    "x = np.arange(5)  # the label locations\n",
    "width = 0.4  # the width of the bars\n",
    "rects1 = ax.bar(x - width/2, train_scores, width, label='Train')\n",
    "rects2 = ax.bar(x + width/2, test_scores, width, label='Val')\n",
    "\n",
    "# Add some text for labels, title and custom x-axis tick labels, etc.\n",
    "ax.set_ylabel('Akurasi')\n",
    "ax.set_title('Akurasi CNN dari tiap Kfold')\n",
    "ax.set_xticks(x)\n",
    "ax.set_xticklabels(['K1','K2','K3','K4','K5'])\n",
    "ax.legend()\n",
    "\n",
    "# ax.bar_label(rects1, padding=3)\n",
    "# ax.bar_label(rects2, padding=3)\n",
    "\n",
    "fig.tight_layout()\n",
    "\n",
    "plt.show()"
   ]
  },
  {
   "cell_type": "code",
   "execution_count": 101,
   "id": "d440c00e",
   "metadata": {},
   "outputs": [],
   "source": [
    "n = test_scores.index(max(test_scores))\n",
    "\n",
    "y_test = sentiment[index[n][1]]"
   ]
  },
  {
   "cell_type": "code",
   "execution_count": 102,
   "id": "13998073",
   "metadata": {},
   "outputs": [
    {
     "name": "stdout",
     "output_type": "stream",
     "text": [
      "Best Train Acc :  0.9803921568627451\n",
      "Best Test Acc :  0.8686440677966102\n"
     ]
    }
   ],
   "source": [
    "print('Best Train Acc : ',train_scores[n])\n",
    "print('Best Test Acc : ',test_scores[n])"
   ]
  },
  {
   "cell_type": "code",
   "execution_count": 103,
   "id": "9ffa586a",
   "metadata": {},
   "outputs": [
    {
     "name": "stdout",
     "output_type": "stream",
     "text": [
      "              precision    recall  f1-score   support\n",
      "\n",
      "     negatif       0.84      0.88      0.86       192\n",
      "      netral       0.88      0.82      0.85       345\n",
      "     positif       0.87      0.91      0.89       407\n",
      "\n",
      "    accuracy                           0.87       944\n",
      "   macro avg       0.87      0.87      0.87       944\n",
      "weighted avg       0.87      0.87      0.87       944\n",
      "\n"
     ]
    }
   ],
   "source": [
    "print(report[n])"
   ]
  },
  {
   "cell_type": "code",
   "execution_count": 104,
   "id": "1d4c94ff",
   "metadata": {},
   "outputs": [
    {
     "name": "stdout",
     "output_type": "stream",
     "text": [
      "[[169  12  11]\n",
      " [ 20 282  43]\n",
      " [ 11  27 369]]\n"
     ]
    }
   ],
   "source": [
    "conf_matrix = confusion_matrix(y_test, predict_value[n])\n",
    "print(conf_matrix)"
   ]
  },
  {
   "cell_type": "code",
   "execution_count": 105,
   "id": "435d6299",
   "metadata": {},
   "outputs": [
    {
     "data": {
      "text/plain": [
       "<AxesSubplot:>"
      ]
     },
     "execution_count": 105,
     "metadata": {},
     "output_type": "execute_result"
    },
    {
     "data": {
      "image/png": "[encoded data removed]",
      "text/plain": [
       "<Figure size 432x288 with 2 Axes>"
      ]
     },
     "metadata": {
      "needs_background": "light"
     },
     "output_type": "display_data"
    }
   ],
   "source": [
    "sns.heatmap(conf_matrix/np.sum(conf_matrix),annot=True, fmt='.2%', cmap='Blues',\n",
    "            xticklabels=['negatif','netral','positif'], yticklabels=['negatif','netral','positif'])"
   ]
  },
  {
   "cell_type": "markdown",
   "id": "f36dc387",
   "metadata": {},
   "source": [
    "## CNN - LSTM"
   ]
  },
  {
   "cell_type": "code",
   "execution_count": 86,
   "id": "03e321f3",
   "metadata": {},
   "outputs": [
    {
     "name": "stdout",
     "output_type": "stream",
     "text": [
      "Model: \"sequential_5\"\n",
      "_________________________________________________________________\n",
      "Layer (type)                 Output Shape              Param #   \n",
      "=================================================================\n",
      "embedding_5 (Embedding)      (None, None, 256)         1280000   \n",
      "_________________________________________________________________\n",
      "conv1d_5 (Conv1D)            (None, None, 128)         262272    \n",
      "_________________________________________________________________\n",
      "lstm_3 (LSTM)                (None, 32)                20608     \n",
      "_________________________________________________________________\n",
      "dense_10 (Dense)             (None, 32)                1056      \n",
      "_________________________________________________________________\n",
      "dropout_5 (Dropout)          (None, 32)                0         \n",
      "_________________________________________________________________\n",
      "dense_11 (Dense)             (None, 3)                 99        \n",
      "=================================================================\n",
      "Total params: 1,564,035\n",
      "Trainable params: 1,564,035\n",
      "Non-trainable params: 0\n",
      "_________________________________________________________________\n"
     ]
    }
   ],
   "source": [
    "model_3 = tf.keras.Sequential([\n",
    "    tf.keras.layers.Embedding(input_dim=5000, output_dim=256),\n",
    "    tf.keras.layers.Conv1D(128, activation='relu',kernel_size=8),\n",
    "#     tf.keras.layers.MaxPooling1D(2),\n",
    "    tf.keras.layers.LSTM(32),\n",
    "#     tf.keras.layers.Bidirectional(tf.keras.layers.LSTM(32)),\n",
    "    tf.keras.layers.Dense(32, activation='relu'),\n",
    "    tf.keras.layers.Dropout(0.5),\n",
    "    tf.keras.layers.Dense(3, activation='softmax')\n",
    "  ])\n",
    "model_3.summary()"
   ]
  },
  {
   "cell_type": "code",
   "execution_count": 107,
   "id": "9dfa233a",
   "metadata": {},
   "outputs": [],
   "source": [
    "train_scores = []\n",
    "test_scores = []\n",
    "predict_value = []\n",
    "report = []\n",
    "index = []\n",
    "final_tweet = df['final_tweet'].to_numpy()\n",
    "sentiment = df['sentiment'].to_numpy()\n",
    "for train_index, test_index in skf.split(final_tweet, sentiment):\n",
    "    index.append([train_index, test_index])\n",
    "    X_train = final_tweet[train_index]\n",
    "    X_test = final_tweet[test_index]\n",
    "    y_train = pd.get_dummies(sentiment[train_index])\n",
    "    y_test = pd.get_dummies(sentiment[test_index])\n",
    "\n",
    "    padded_train, padded_test = preprocessing_cnn(X_train,X_test)\n",
    "    \n",
    "    model_3.compile(loss='categorical_crossentropy', optimizer=tf.optimizers.Adam(lr=0.0018478498),\n",
    "              metrics=['accuracy'])\n",
    "    # train model\n",
    "    model_3.fit(padded_train, y_train, epochs=20, verbose=0,callbacks=[early_stop], validation_data=(padded_test, y_test))\n",
    "    \n",
    "    #convert label\n",
    "    y_test = convert_predict_cnn(np.argmax(np.array(y_test), axis=1))\n",
    "    y_train = convert_predict_cnn(np.argmax(np.array(y_train), axis=1))\n",
    "    \n",
    "    train_yhat = convert_predict_cnn(np.argmax(model_3.predict(padded_train),axis=1))\n",
    "    train_acc = metrics.accuracy_score(y_train, train_yhat)\n",
    "    train_scores.append(train_acc)\n",
    "    # evaluate on the test dataset\n",
    "    test_yhat = convert_predict_cnn(np.argmax(model_3.predict(padded_test),axis=1))\n",
    "    test_acc = metrics.accuracy_score(y_test, test_yhat)\n",
    "    test_scores.append(test_acc)\n",
    "    report.append(classification_report(y_test, test_yhat))\n",
    "    predict_value.append(test_yhat)"
   ]
  },
  {
   "cell_type": "code",
   "execution_count": 108,
   "id": "2c7e0fe3",
   "metadata": {},
   "outputs": [],
   "source": [
    "df_score = pd.DataFrame(data = {'Akurasi Train': train_scores, \n",
    "                                'Akurasi Test': test_scores}, \n",
    "             index=['K'+str(i) for i in range(1, 1+len(train_scores))])"
   ]
  },
  {
   "cell_type": "code",
   "execution_count": 109,
   "id": "dd44c18f",
   "metadata": {},
   "outputs": [
    {
     "data": {
      "text/html": [
       "<div>\n",
       "<style scoped>\n",
       "    .dataframe tbody tr th:only-of-type {\n",
       "        vertical-align: middle;\n",
       "    }\n",
       "\n",
       "    .dataframe tbody tr th {\n",
       "        vertical-align: top;\n",
       "    }\n",
       "\n",
       "    .dataframe thead th {\n",
       "        text-align: right;\n",
       "    }\n",
       "</style>\n",
       "<table border=\"1\" class=\"dataframe\">\n",
       "  <thead>\n",
       "    <tr style=\"text-align: right;\">\n",
       "      <th></th>\n",
       "      <th>Akurasi Train</th>\n",
       "      <th>Akurasi Test</th>\n",
       "    </tr>\n",
       "  </thead>\n",
       "  <tbody>\n",
       "    <tr>\n",
       "      <th>K1</th>\n",
       "      <td>0.983307</td>\n",
       "      <td>0.822034</td>\n",
       "    </tr>\n",
       "    <tr>\n",
       "      <th>K2</th>\n",
       "      <td>0.983572</td>\n",
       "      <td>0.850636</td>\n",
       "    </tr>\n",
       "    <tr>\n",
       "      <th>K3</th>\n",
       "      <td>0.980922</td>\n",
       "      <td>0.848517</td>\n",
       "    </tr>\n",
       "    <tr>\n",
       "      <th>K4</th>\n",
       "      <td>0.983046</td>\n",
       "      <td>0.826087</td>\n",
       "    </tr>\n",
       "    <tr>\n",
       "      <th>K5</th>\n",
       "      <td>0.980927</td>\n",
       "      <td>0.828208</td>\n",
       "    </tr>\n",
       "  </tbody>\n",
       "</table>\n",
       "</div>"
      ],
      "text/plain": [
       "    Akurasi Train  Akurasi Test\n",
       "K1       0.983307      0.822034\n",
       "K2       0.983572      0.850636\n",
       "K3       0.980922      0.848517\n",
       "K4       0.983046      0.826087\n",
       "K5       0.980927      0.828208"
      ]
     },
     "execution_count": 109,
     "metadata": {},
     "output_type": "execute_result"
    }
   ],
   "source": [
    "df_score"
   ]
  },
  {
   "cell_type": "code",
   "execution_count": 110,
   "id": "f339b314",
   "metadata": {},
   "outputs": [
    {
     "data": {
      "image/png": "[encoded data removed]",
      "text/plain": [
       "<Figure size 576x360 with 1 Axes>"
      ]
     },
     "metadata": {
      "needs_background": "light"
     },
     "output_type": "display_data"
    }
   ],
   "source": [
    "fig, ax = plt.subplots(figsize=(8,5))\n",
    "x = np.arange(5)  # the label locations\n",
    "width = 0.4  # the width of the bars\n",
    "rects1 = ax.bar(x - width/2, train_scores, width, label='Train')\n",
    "rects2 = ax.bar(x + width/2, test_scores, width, label='Val')\n",
    "\n",
    "# Add some text for labels, title and custom x-axis tick labels, etc.\n",
    "ax.set_ylabel('Akurasi')\n",
    "ax.set_title('Akurasi CNN dari tiap Kfold')\n",
    "ax.set_xticks(x)\n",
    "ax.set_xticklabels(['K1','K2','K3','K4','K5'])\n",
    "ax.legend()\n",
    "\n",
    "# ax.bar_label(rects1, padding=3)\n",
    "# ax.bar_label(rects2, padding=3)\n",
    "\n",
    "fig.tight_layout()\n",
    "\n",
    "plt.show()"
   ]
  },
  {
   "cell_type": "code",
   "execution_count": 111,
   "id": "6352a492",
   "metadata": {},
   "outputs": [],
   "source": [
    "n = test_scores.index(max(test_scores))\n",
    "\n",
    "y_test = sentiment[index[n][1]]"
   ]
  },
  {
   "cell_type": "code",
   "execution_count": 112,
   "id": "53171fa6",
   "metadata": {},
   "outputs": [
    {
     "name": "stdout",
     "output_type": "stream",
     "text": [
      "Best Train Acc :  0.9835718071012188\n",
      "Best Test Acc :  0.850635593220339\n"
     ]
    }
   ],
   "source": [
    "print('Best Train Acc : ',train_scores[n])\n",
    "print('Best Test Acc : ',test_scores[n])"
   ]
  },
  {
   "cell_type": "code",
   "execution_count": 113,
   "id": "e8165875",
   "metadata": {},
   "outputs": [
    {
     "name": "stdout",
     "output_type": "stream",
     "text": [
      "              precision    recall  f1-score   support\n",
      "\n",
      "     negatif       0.83      0.87      0.85       192\n",
      "      netral       0.84      0.81      0.82       345\n",
      "     positif       0.88      0.88      0.88       407\n",
      "\n",
      "    accuracy                           0.85       944\n",
      "   macro avg       0.85      0.85      0.85       944\n",
      "weighted avg       0.85      0.85      0.85       944\n",
      "\n"
     ]
    }
   ],
   "source": [
    "print(report[n])"
   ]
  },
  {
   "cell_type": "code",
   "execution_count": 114,
   "id": "dd38b94b",
   "metadata": {},
   "outputs": [
    {
     "name": "stdout",
     "output_type": "stream",
     "text": [
      "[[167  17   8]\n",
      " [ 23 279  43]\n",
      " [ 12  38 357]]\n"
     ]
    }
   ],
   "source": [
    "conf_matrix = confusion_matrix(y_test, predict_value[n])\n",
    "print(conf_matrix)"
   ]
  },
  {
   "cell_type": "code",
   "execution_count": 115,
   "id": "c0b481d4",
   "metadata": {},
   "outputs": [
    {
     "data": {
      "text/plain": [
       "<AxesSubplot:>"
      ]
     },
     "execution_count": 115,
     "metadata": {},
     "output_type": "execute_result"
    },
    {
     "data": {
      "image/png": "[encoded data removed]",
      "text/plain": [
       "<Figure size 432x288 with 2 Axes>"
      ]
     },
     "metadata": {
      "needs_background": "light"
     },
     "output_type": "display_data"
    }
   ],
   "source": [
    "sns.heatmap(conf_matrix/np.sum(conf_matrix),annot=True, fmt='.2%', cmap='Blues',\n",
    "            xticklabels=['negatif','netral','positif'], yticklabels=['negatif','netral','positif'])"
   ]
  },
  {
   "cell_type": "code",
   "execution_count": 106,
   "id": "78081f7d",
   "metadata": {},
   "outputs": [],
   "source": [
    "model_2.save(\"Model2_Lr.h5\")"
   ]
  },
  {
   "cell_type": "code",
   "execution_count": null,
   "id": "5ccfac07",
   "metadata": {},
   "outputs": [],
   "source": []
  }
 ],
 "metadata": {
  "kernelspec": {
   "display_name": "Python 3",
   "language": "python",
   "name": "python3"
  },
  "language_info": {
   "codemirror_mode": {
    "name": "ipython",
    "version": 3
   },
   "file_extension": ".py",
   "mimetype": "text/x-python",
   "name": "python",
   "nbconvert_exporter": "python",
   "pygments_lexer": "ipython3",
   "version": "3.7.10"
  }
 },
 "nbformat": 4,
 "nbformat_minor": 5
}
